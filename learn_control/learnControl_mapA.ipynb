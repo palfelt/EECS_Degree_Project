{
 "cells": [
  {
   "cell_type": "code",
   "execution_count": 1,
   "metadata": {},
   "outputs": [],
   "source": [
    "import torch\n",
    "import torch.nn as nn\n",
    "from torch.nn.modules import loss\n",
    "import torch.optim as optim\n",
    "\n",
    "import numpy as np\n",
    "from numpy.random import default_rng\n",
    "import matplotlib.pyplot as plt\n",
    "import cv2\n",
    "\n",
    "rng = default_rng(900)\n",
    "\n",
    "cuda = False\n",
    "DEVICE = torch.device(\"cuda\" if cuda else \"cpu\")"
   ]
  },
  {
   "cell_type": "code",
   "execution_count": 2,
   "metadata": {},
   "outputs": [],
   "source": [
    "# neural network parameters\n",
    "mb_size = 256 # mini batch dim\n",
    "h_Q_dim = 512*4 # encoder dim\n",
    "h_P_dim = 512*4 # decoder dim\n",
    "\n",
    "lr = 1e-4 # learning rate\n",
    "\n",
    "nDrawnSamples = 21 # number of dependent samples to draw during smapling (length of predicted control series)\n",
    "nPreviousStates = 1 # number of previous states to condition on the steering prediction\n",
    "dim = 4 # (x, y, yaw, steer)\n",
    "dataElements = (nDrawnSamples + nPreviousStates) * dim + dim - 1\n",
    "\n",
    "z_dim = 1 # latent dim\n",
    "X_dim = nDrawnSamples # steering\n",
    "y_dim = dim # renp.piruction of the original point (unsused?)\n",
    "c_dim = dataElements - X_dim*dim # dimension of conditioning variable"
   ]
  },
  {
   "cell_type": "code",
   "execution_count": 4,
   "metadata": {},
   "outputs": [],
   "source": [
    "# load map file\n",
    "\n",
    "filename = '/home/oscar_palfelt/MSc_thesis/EECS_Degree_Project/learn_control/motion_planning/maps/mapA.png'\n",
    "mapImg = cv2.imread(filename, 0)\n",
    "blurImg = cv2.blur(mapImg, ksize=(3,3))\n",
    "occGrid = np.clip(mapImg, 0, 1)\n",
    "inflatedGrid = np.floor(blurImg / 255)\n",
    "\n",
    "assert occGrid.shape[0] == occGrid.shape[1]\n",
    "gridSize = occGrid.shape[0]"
   ]
  },
  {
   "cell_type": "code",
   "execution_count": 6,
   "metadata": {},
   "outputs": [
    {
     "name": "stdout",
     "output_type": "stream",
     "text": [
      "(144477, 91)\n"
     ]
    }
   ],
   "source": [
    "# read in data from .txt file, re-arrange to allow drawing multiple depedent samples\n",
    "\n",
    "filename = '/home/oscar_palfelt/MSc_thesis/EECS_Degree_Project/learn_control/motion_planning/data/mapA_data_53kPlans'\n",
    "rawdata = np.genfromtxt(filename, delimiter=',', dtype='d', usecols=[0,1,2,3,7,8,9]) # disregard init\n",
    "\n",
    "_, pathsIdx = np.unique(rawdata[:,4:], axis=0, return_index=True)\n",
    "pathsIdx.sort()\n",
    "\n",
    "pathsLengths = np.roll(pathsIdx, -1) - pathsIdx\n",
    "pathsLengths[-1] = rawdata.shape[0] - np.sum(pathsLengths[:-1])\n",
    "\n",
    "validLengthsIdx = np.argwhere(pathsLengths >= nPreviousStates + nDrawnSamples) \n",
    "validPlansIdx = pathsIdx[validLengthsIdx]\n",
    "\n",
    "data = np.zeros(shape=(1, dataElements)) # steering angles, samples (x,y,yaw), goal(x,y,yaw)\n",
    "tempdata = np.copy(data) # steering angles, samples (x,y,yaw), goal(x,y,yaw)\n",
    "for ci, i in enumerate(validPlansIdx.reshape(-1)):\n",
    "    for j in range(pathsLengths[ci] - (nPreviousStates + nDrawnSamples - 1)):\n",
    "        sample = np.arange(start=j, stop=j + nPreviousStates + nDrawnSamples)\n",
    "\n",
    "        if np.any(np.abs(np.diff(rawdata[i + sample, 0])) > 0.05) or np.any(np.abs(np.diff(rawdata[i + sample, 1])) > 0.05):\n",
    "            break # ignore duplicate plans (data generation is not perfect)\n",
    "\n",
    "        tempdata = np.vstack((tempdata, np.append(rawdata[i + sample, :dim].reshape(1, (nPreviousStates + nDrawnSamples)*dim), rawdata[i, dim:].reshape(1, dim-1), axis=1))) \n",
    "        if ci % 500 == 0:\n",
    "            data = np.vstack((data, tempdata[1:]))\n",
    "            tempdata = np.zeros(shape=(1, dataElements))\n",
    "\n",
    "data = data[1:]\n",
    "rng.shuffle(data) # shuffle data\n",
    "\n",
    "numEntries = data.shape[0]\n",
    "print(data.shape)"
   ]
  },
  {
   "cell_type": "code",
   "execution_count": 7,
   "metadata": {},
   "outputs": [
    {
     "data": {
      "image/png": "[encoded data removed]",
      "text/plain": [
       "<Figure size 432x288 with 1 Axes>"
      ]
     },
     "metadata": {
      "needs_background": "light"
     },
     "output_type": "display_data"
    }
   ],
   "source": [
    "# Visualize random data sample\n",
    "i = np.random.randint(1,numEntries)\n",
    "plt.imshow(mapImg, extent=[0, gridSize, 0, gridSize], cmap='gray')\n",
    "plt.scatter(data[i, :-dim:dim] * gridSize, data[i, 1:-dim:dim] * gridSize)\n",
    "plt.show()"
   ]
  },
  {
   "cell_type": "code",
   "execution_count": 8,
   "metadata": {},
   "outputs": [
    {
     "name": "stdout",
     "output_type": "stream",
     "text": [
      "(115581, 21)\n"
     ]
    }
   ],
   "source": [
    "# split the inputs and conditions into test train (to be processed in the next step into an occupancy grid representation)\n",
    "\n",
    "ratioTestTrain = 0.8;\n",
    "numTrain = int(numEntries*ratioTestTrain)\n",
    "\n",
    "X_train = data[0:numTrain, dim * nPreviousStates + dim-1::dim] # steering angles to predict\n",
    "X_test = data[numTrain:numEntries, dim * nPreviousStates + dim-1::dim]\n",
    "\n",
    "numTest = X_test.shape[0]\n",
    "\n",
    "print(X_train.shape)"
   ]
  },
  {
   "cell_type": "code",
   "execution_count": 9,
   "metadata": {},
   "outputs": [
    {
     "name": "stdout",
     "output_type": "stream",
     "text": [
      "(144477, 7)\n"
     ]
    }
   ],
   "source": [
    "# generate conditioning variable\n",
    "\n",
    "prevStates = data[1:, :nPreviousStates*dim]\n",
    "nextStates = data[1:, nPreviousStates*dim:-dim+1]\n",
    "nextStates = data[:, nPreviousStates*dim:-dim+1]\n",
    "goalState = data[1:, -dim+1:]\n",
    "\n",
    "prevStatesConditions = data[:, :nPreviousStates * dim]\n",
    "goalStateCondition = data[:, -dim+1:]\n",
    "\n",
    "cs = np.concatenate((prevStatesConditions, goalStateCondition), axis=1)\n",
    "\n",
    "c_dim = cs.shape[1]\n",
    "c_train = cs[0:numTrain,:]  \n",
    "c_test = cs[numTrain:numEntries,:]\n",
    "\n",
    "print(cs.shape)"
   ]
  },
  {
   "cell_type": "code",
   "execution_count": 10,
   "metadata": {},
   "outputs": [],
   "source": [
    "# define pytorch networks\n",
    "# based on https://github.com/Jackson-Kang/Pytorch-VAE-tutorial/blob/master/.ipynb_checkpoints/01_Variational_AutoEncoder-checkpoint.ipynb\n",
    "\n",
    "class Encoder(nn.Module):\n",
    "    \n",
    "    def __init__(self, input_dim=X_dim+c_dim, hidden_dim=h_Q_dim, latent_dim=z_dim):\n",
    "        super(Encoder, self).__init__()\n",
    "\n",
    "        self.network = nn.Sequential(\n",
    "            nn.Linear(input_dim, hidden_dim),\n",
    "            nn.ReLU(),\n",
    "            nn.Dropout(p=0.5),\n",
    "            nn.Linear(hidden_dim, hidden_dim),\n",
    "            nn.ReLU()\n",
    "        )\n",
    "\n",
    "        self.z_mu = nn.Linear(hidden_dim, latent_dim)\n",
    "        self.z_logvar = nn.Linear(hidden_dim, latent_dim)\n",
    "        \n",
    "    def forward(self, x):\n",
    "\n",
    "        seq = self.network(x)\n",
    "\n",
    "        return self.z_mu(seq), self.z_logvar(seq)\n",
    "\n",
    "\n",
    "class Decoder(nn.Module):\n",
    "    def __init__(self, latent_dim=z_dim+c_dim, hidden_dim=h_P_dim, output_dim=X_dim):\n",
    "        super(Decoder, self).__init__()\n",
    "\n",
    "        self.network = nn.Sequential(\n",
    "            nn.Linear(latent_dim, hidden_dim),\n",
    "            nn.ReLU(),\n",
    "            nn.Dropout(p=0.5),\n",
    "            nn.Linear(hidden_dim, hidden_dim),\n",
    "            nn.ReLU(),\n",
    "            nn.Linear(hidden_dim, output_dim)\n",
    "        )\n",
    "        \n",
    "    def forward(self, x):\n",
    "        \n",
    "        return self.network(x)\n",
    "\n",
    "\n",
    "class NeuralNetwork(nn.Module):\n",
    "    def __init__(self, Encoder, Decoder):\n",
    "        super(NeuralNetwork, self).__init__()\n",
    "        self.Encoder = Encoder\n",
    "        self.Decoder = Decoder\n",
    "    \n",
    "    def reparameterization(self, mean, logvar):\n",
    "        epsilon = torch.randn_like(mean).to(DEVICE)        # sampling epsilon        \n",
    "        z = mean + torch.exp(0.5 * logvar) * epsilon       # reparameterization trick\n",
    "        return z\n",
    "\n",
    "    def forward(self, x, c, encode=True):\n",
    "        if encode:\n",
    "            z_mu, z_logvar = self.Encoder(torch.cat((x, c), dim=1))\n",
    "            z = self.reparameterization(z_mu, z_logvar)\n",
    "\n",
    "            y = self.Decoder(torch.cat((z, c), dim=1))\n",
    "            \n",
    "            return y, z_mu, z_logvar\n",
    "        else:\n",
    "            z = x\n",
    "            y = self.Decoder(torch.cat((z, c), dim=1))    \n",
    "\n",
    "            return y\n",
    "\n",
    "\n",
    "encoder = Encoder()\n",
    "decoder = Decoder()\n",
    "network = NeuralNetwork(Encoder=encoder, Decoder=decoder).to(DEVICE)\n",
    "\n",
    "weight = torch.from_numpy(1 / np.max(np.abs(X),axis=0)).float().to(DEVICE)\n",
    "\n",
    "def loss_function(x, y, mean, logvar):\n",
    "    recon_loss = (weight * (x - y) ** 2).mean()\n",
    "    kl_loss    = 10**-4 * 2 * torch.sum(torch.exp(logvar) + mean.pow(2) - 1. - logvar, dim=1)\n",
    "\n",
    "    return torch.mean(kl_loss + recon_loss)\n",
    "\n",
    "optimizer = optim.Adam(network.parameters(), lr=lr)"
   ]
  },
  {
   "cell_type": "code",
   "execution_count": null,
   "metadata": {},
   "outputs": [],
   "source": [
    "# Training\n",
    "for it in range(100001):\n",
    "    # randomly generate batches\n",
    "    batch_elements = [np.random.randint(0,numTrain-1) for n in range(0,mb_size)]\n",
    "\n",
    "    X_mb = torch.tensor(X_train[batch_elements,:], requires_grad=True, dtype=torch.float32, device=DEVICE)\n",
    "    c_mb = torch.tensor(c_train[batch_elements,:], requires_grad=True, dtype=torch.float32, device=DEVICE)\n",
    "    \n",
    "    optimizer.zero_grad()\n",
    "\n",
    "    y, z_mu, z_logvar = network(X_mb, c_mb)\n",
    "    \n",
    "    loss = loss_function(X_mb, y, z_mu, z_logvar)\n",
    "    loss.backward()\n",
    "    optimizer.step()\n",
    "\n",
    "    if it % 1000 == 0:\n",
    "        batch_elements = [np.random.randint(0,numTest-1) for n in range(0,mb_size)]\n",
    "\n",
    "        Xval_mb = torch.tensor(X_test[batch_elements,:], requires_grad=False, dtype=torch.float32, device=DEVICE)\n",
    "        cval_mb = torch.tensor(c_test[batch_elements,:], requires_grad=False, dtype=torch.float32, device=DEVICE)\n",
    "\n",
    "        yval, z_muval, z_logvarval = network(Xval_mb, cval_mb)\n",
    "\n",
    "        valloss = loss_function(Xval_mb, yval, z_muval, z_logvarval)\n",
    "\n",
    "        print('Iter: {}'.format(it))\n",
    "        print('Loss: {:.4}'. format(loss))\n",
    "        print('VLoss: {:.4}'. format(valloss))\n",
    "        print()"
   ]
  },
  {
   "cell_type": "code",
   "execution_count": 12,
   "metadata": {},
   "outputs": [
    {
     "data": {
      "image/png": "[encoded data removed]",
      "text/plain": [
       "<Figure size 432x288 with 1 Axes>"
      ]
     },
     "metadata": {
      "needs_background": "light"
     },
     "output_type": "display_data"
    },
    {
     "data": {
      "image/png": "[encoded data removed]",
      "text/plain": [
       "<Figure size 432x288 with 1 Axes>"
      ]
     },
     "metadata": {
      "needs_background": "light"
     },
     "output_type": "display_data"
    }
   ],
   "source": [
    "# plot the latent space\n",
    "num_viz = 800 # number of samples to draw in latent space\n",
    "\n",
    "vizIdx =np.random.randint(0,numTest-1)\n",
    "c_sample_seed = c_test[vizIdx,:]\n",
    "c_sample = torch.from_numpy(np.repeat([c_sample_seed],num_viz,axis=0)).float().to(DEVICE)\n",
    "\n",
    "y_viz = network(torch.randn(num_viz, z_dim).to(DEVICE), c_sample, encode=False).cpu().detach().numpy() # y_viz is sample in state space, zviz in latent space (3D)\n",
    "t = np.tile(np.arange(nDrawnSamples), reps=(num_viz, 1)) * 0.05\n",
    "\n",
    "xPrev = prevStates[numTrain + vizIdx, ::dim]\n",
    "yPrev = prevStates[numTrain + vizIdx, 1::dim]\n",
    "yawPrev = prevStates[numTrain + vizIdx, 2::dim]\n",
    "steerPrev = prevStatesConditions[numTrain + vizIdx, 3::dim]\n",
    "\n",
    "xNext = nextStates[numTrain + vizIdx, ::dim]\n",
    "yNext = nextStates[numTrain + vizIdx, 1::dim]\n",
    "steerNext = nextStates[numTrain + vizIdx, 3::dim]\n",
    "\n",
    "# Learns only control\n",
    "plt.quiver(xPrev[-1] * gridSize, yPrev[[-1]] * gridSize, np.cos(yawPrev[-1]), np.sin(yawPrev[-1]), color=\"red\", scale=8.0, width=0.015) # vehicle pose\n",
    "plt.scatter(xNext * gridSize, yNext * gridSize, color='purple')\n",
    "plt.quiver(goalState[numTrain + vizIdx, 0] * gridSize, goalState[numTrain + vizIdx, 1] * gridSize, np.cos(goalState[numTrain + vizIdx, 2]), np.sin(goalState[numTrain + vizIdx, 2]), color=\"blue\", scale=8.0, width=0.015) # goal\n",
    "plt.imshow(mapImg, extent=[0, gridSize, 0, gridSize], cmap='gray')\n",
    "plt.show()\n",
    "\n",
    "plt.scatter(t, y_viz, s=70, alpha=0.01)\n",
    "plt.scatter(t[0], steerNext, alpha=0.4)\n",
    "plt.scatter(np.arange(-nPreviousStates, 0) * 0.05, steerPrev)\n",
    "plt.ylim([-1.,1.])\n",
    "plt.legend(['Predict', 'True', 'Previous'])\n",
    "plt.xlabel('t')\n",
    "plt.ylabel('Steering')\n",
    "plt.show()\n",
    "\n"
   ]
  },
  {
   "cell_type": "code",
   "execution_count": 267,
   "metadata": {},
   "outputs": [],
   "source": [
    "torch.save(network, \"/home/oscar_palfelt/MSc_thesis/EECS_Degree_Project/learn_control/networks/network_name.pt\")"
   ]
  }
 ],
 "metadata": {
  "interpreter": {
   "hash": "9e6cc1179d3ed6ae143ff3dc9ac563dc8e696a51d4136aae17def4ab6c30aa1f"
  },
  "kernelspec": {
   "display_name": "Python 3.8.12 ('project_env_3_8': venv)",
   "language": "python",
   "name": "python3"
  },
  "language_info": {
   "codemirror_mode": {
    "name": "ipython",
    "version": 3
   },
   "file_extension": ".py",
   "mimetype": "text/x-python",
   "name": "python",
   "nbconvert_exporter": "python",
   "pygments_lexer": "ipython3",
   "version": "3.8.12"
  },
  "orig_nbformat": 4
 },
 "nbformat": 4,
 "nbformat_minor": 2
}
