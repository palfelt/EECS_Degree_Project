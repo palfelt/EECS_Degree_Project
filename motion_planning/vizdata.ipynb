{
 "cells": [
  {
   "cell_type": "code",
   "execution_count": 2,
   "metadata": {},
   "outputs": [],
   "source": [
    "import numpy as np\n",
    "import matplotlib.pyplot as plt"
   ]
  },
  {
   "cell_type": "code",
   "execution_count": 3,
   "metadata": {},
   "outputs": [],
   "source": [
    "# Load obstacle data\n",
    "\n",
    "data = np.genfromtxt('/home/oscar_palfelt/MSc_thesis/LearnedSamplingDistributions/narrowDataFile.txt', delimiter=',', usecols=range(27))\n",
    "numEntries = data.shape[0]\n",
    "\n",
    "obsData = data[:, 6:-13]"
   ]
  },
  {
   "cell_type": "code",
   "execution_count": 4,
   "metadata": {},
   "outputs": [
    {
     "name": "stdout",
     "output_type": "stream",
     "text": [
      "Iter: 0\n",
      "Iter: 5000\n",
      "Iter: 10000\n",
      "Iter: 15000\n",
      "Iter: 20000\n",
      "Iter: 25000\n",
      "Iter: 30000\n",
      "Iter: 35000\n",
      "Iter: 40000\n",
      "Iter: 45000\n",
      "Iter: 50000\n",
      "Iter: 55000\n",
      "Iter: 60000\n",
      "Iter: 65000\n",
      "Iter: 70000\n",
      "Iter: 75000\n",
      "Iter: 80000\n"
     ]
    }
   ],
   "source": [
    "# Generate occupancy grid\n",
    "def isSampleFree(sample, obs):\n",
    "    for o in list(range(0,obs.shape[0]//(2*dimW))): # python 2 -> 3: use list(), use //\n",
    "        isFree = 0\n",
    "        for d in range(0,sample.shape[0]):\n",
    "            if (sample[d] < obs[2*dimW*o + d] or sample[d] > obs[2*dimW*o + d + dimW]):\n",
    "                isFree = 1\n",
    "                break\n",
    "        if isFree == 0:\n",
    "            return 0\n",
    "    return 1\n",
    "\n",
    "gridSize = 11\n",
    "\n",
    "# process data into occupancy grid\n",
    "occGrids = np.zeros([numEntries,gridSize*gridSize])\n",
    "occGridSamples = np.zeros([gridSize*gridSize, 2])\n",
    "gridPointsRange = np.linspace(0,1,num=gridSize)\n",
    "\n",
    "idx = 0;\n",
    "for i in gridPointsRange:\n",
    "    for j in gridPointsRange:\n",
    "        occGridSamples[idx,0] = i\n",
    "        occGridSamples[idx,1] = j\n",
    "        idx += 1;\n",
    "\n",
    "for j in range(0,numEntries,1):\n",
    "    dw = 0.1\n",
    "    dimW = 3\n",
    "    gap1 = obsData[j,0:3]\n",
    "    gap2 = obsData[j,3:6]\n",
    "    gap3 = obsData[j,6:9]\n",
    "\n",
    "    obs1 = [0, gap1[1]-dw, -0.5,          gap1[0], gap1[1], 1.5]\n",
    "    obs2 = [gap2[0]-dw, 0, -0.5,          gap2[0], gap2[1], 1.5]\n",
    "    obs3 = [gap2[0]-dw, gap2[1]+dw, -0.5, gap2[0], 1, 1.5]\n",
    "    obs4 = [gap1[0]+dw, gap1[1]-dw, -0.5, gap3[0], gap1[1], 1.5]\n",
    "    obs5 = [gap3[0]+dw, gap1[1]-dw, -0.5, 1, gap1[1], 1.5]\n",
    "    obs = np.concatenate((obs1, obs2, obs3, obs4, obs5), axis=0)\n",
    "    \n",
    "    if j % 5000 == 0:\n",
    "        print('Iter: {}'.format(j))\n",
    "        \n",
    "    occGrid = np.zeros(gridSize*gridSize)\n",
    "    for i in range(0,gridSize*gridSize):\n",
    "        occGrid[i] = isSampleFree(occGridSamples[i,:],obs)\n",
    "    occGrids[j,:] = occGrid"
   ]
  },
  {
   "cell_type": "code",
   "execution_count": 13,
   "metadata": {},
   "outputs": [
    {
     "name": "stdout",
     "output_type": "stream",
     "text": [
      "6444\n"
     ]
    }
   ],
   "source": [
    "# vizualize data samples\n",
    "\n",
    "val = data[0, 6]\n",
    "npaths = 0\n",
    "plot = False\n",
    "prevInd = 0\n",
    "for i in range(numEntries):\n",
    "    if not val == data[i, 6]:\n",
    "\n",
    "        if plot:\n",
    "            grid = np.rot90(occGrids[prevInd,:].reshape(11,11))\n",
    "\n",
    "            xy = data[prevInd:i-1, 0:2]\n",
    "            init = data[prevInd, -12:-10]\n",
    "            goal = data[prevInd, -6:-4]\n",
    "\n",
    "            fig, ax = plt.subplots()\n",
    "            ax.imshow(grid, extent=[0, 11, 0, 11], cmap='gray')\n",
    "            plt.scatter(init[0] * (grid.shape[1] - 1), init[1] * (grid.shape[0] - 1), color=\"red\", s=250, edgecolors='black')\n",
    "            plt.scatter(goal[0] * (grid.shape[1] - 1), goal[1] * (grid.shape[0] - 1), color=\"blue\", s=250, edgecolors='black')\n",
    "            plt.scatter(xy[:, 0] * (grid.shape[1] - 1), xy[:, 1] * (grid.shape[0] - 1), color=\"green\", s=50, alpha=0.7)\n",
    "            plt.show()\n",
    "\n",
    "        if i - prevInd > 2:\n",
    "            npaths += 1\n",
    "        val = data[i, 6]\n",
    "        prevInd = i\n",
    "\n",
    "print(npaths)"
   ]
  }
 ],
 "metadata": {
  "interpreter": {
   "hash": "9e6cc1179d3ed6ae143ff3dc9ac563dc8e696a51d4136aae17def4ab6c30aa1f"
  },
  "kernelspec": {
   "display_name": "Python 3.8.12 ('project_env_3_8': venv)",
   "language": "python",
   "name": "python3"
  },
  "language_info": {
   "codemirror_mode": {
    "name": "ipython",
    "version": 3
   },
   "file_extension": ".py",
   "mimetype": "text/x-python",
   "name": "python",
   "nbconvert_exporter": "python",
   "pygments_lexer": "ipython3",
   "version": "3.8.12"
  },
  "orig_nbformat": 4
 },
 "nbformat": 4,
 "nbformat_minor": 2
}
