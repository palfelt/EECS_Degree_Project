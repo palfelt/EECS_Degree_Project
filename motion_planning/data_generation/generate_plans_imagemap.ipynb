{
 "cells": [
  {
   "cell_type": "code",
   "execution_count": 1,
   "metadata": {},
   "outputs": [],
   "source": [
    "from functools import partial\n",
    "import numpy as np\n",
    "from io import StringIO\n",
    "import matplotlib.pyplot as plt\n",
    "import cv2\n",
    "\n",
    "import sys\n",
    "sys.path.append('/home/oscar_palfelt/MSc_thesis/ompl/py-bindings')\n",
    "from ompl import base as ob\n",
    "from ompl import control as oc\n",
    "from ompl import geometric as og"
   ]
  },
  {
   "cell_type": "code",
   "execution_count": 2,
   "metadata": {},
   "outputs": [
    {
     "data": {
      "image/png": "[encoded data removed]",
      "text/plain": [
       "<Figure size 432x288 with 1 Axes>"
      ]
     },
     "metadata": {
      "needs_background": "light"
     },
     "output_type": "display_data"
    }
   ],
   "source": [
    "# Load obstacle data\n",
    "filename = '/home/oscar_palfelt/MSc_thesis/EECS_Degree_Project/motion_planning/data_generation/map_difficult.png'\n",
    "mapImg = cv2.imread(filename, 0)\n",
    "blurImg = cv2.blur(mapImg, ksize=(3,3))\n",
    "\n",
    "occGrid = np.clip(mapImg, 0, 1)\n",
    "inflatedGrid = np.floor(blurImg / 255)\n",
    "gridSize = occGrid.shape[0]\n",
    "\n",
    "plt.imshow(inflatedGrid, extent=[0, gridSize-1, 0, gridSize-1], cmap='gray')\n",
    "plt.show()"
   ]
  },
  {
   "cell_type": "code",
   "execution_count": 3,
   "metadata": {},
   "outputs": [],
   "source": [
    "# define planning problem\n",
    "\n",
    "def isStateValid(spaceInformation, state):\n",
    "    # perform collision checking or check if other constraints are\n",
    "    # satisfied\n",
    "    u = int(np.floor(state.getX() * occGrid.shape[1])) # right pointing image axis\n",
    "    v = int(np.floor(occGrid.shape[0] * (1 - state.getY()))) # down pointing image axis\n",
    "\n",
    "    if spaceInformation.satisfiesBounds(state):\n",
    "        return inflatedGrid[v,u] > 0\n",
    "\n",
    "\n",
    "def problemDef():\n",
    "    # construct the state space we are planning in\n",
    "    space = ob.DubinsStateSpace(turningRadius=0.05)\n",
    "    #space = ob.SE2StateSpace()\n",
    "\n",
    "    # set the bounds for the R^2 part of SE(2)\n",
    "    bounds = ob.RealVectorBounds(2)\n",
    "    bounds.setLow(0.001)\n",
    "    bounds.setHigh(0.999)\n",
    "    space.setBounds(bounds)\n",
    "\n",
    "    # define a simple setup class\n",
    "    ss = og.SimpleSetup(space)\n",
    "    ss.setStateValidityChecker(ob.StateValidityCheckerFn( \\\n",
    "        partial(isStateValid, ss.getSpaceInformation())))\n",
    "\n",
    "    si = ss.getSpaceInformation()\n",
    "    planner = og.RRTstar(si)\n",
    "    ss.setPlanner(planner)\n",
    "\n",
    "    return ss\n",
    "\n",
    "\n",
    "def plan(planObj, initState, goalState):\n",
    "\n",
    "    space = ob.DubinsStateSpace(turningRadius=0.05)\n",
    "    #space = ob.SE2StateSpace()\n",
    "    \n",
    "    start = ob.State(space)\n",
    "    start().setX(initState[0])\n",
    "    start().setY(initState[1])\n",
    "    start().setYaw(initState[2])\n",
    "\n",
    "    goal = ob.State(space)\n",
    "    goal().setX(goalState[0])\n",
    "    goal().setY(goalState[1])\n",
    "    goal().setYaw(goalState[2])\n",
    "    \n",
    "    planObj.setStartAndGoalStates(start, goal, 0.1)\n",
    "\n",
    "    timeTerminationCondition = ob.timedPlannerTerminationCondition(4.0)\n",
    "    costTerminationCondition = ob.CostConvergenceTerminationCondition(planObj.getProblemDefinition(), epsilon=0.5)\n",
    "    orTerminationCondition = ob.plannerOrTerminationCondition(costTerminationCondition, timeTerminationCondition)\n",
    "\n",
    "    planObj.solve(orTerminationCondition)"
   ]
  },
  {
   "cell_type": "code",
   "execution_count": 6,
   "metadata": {},
   "outputs": [
    {
     "name": "stdout",
     "output_type": "stream",
     "text": [
      "Debug:   RRTstar: Planner range detected to be 0.596436\n",
      "Info:    RRTstar: No optimization objective specified. Defaulting to optimizing path length for the allowed planning time.\n",
      "Info:    RRTstar: Started planning with 1 states. Seeking a solution better than 0.00000.\n",
      "Info:    RRTstar: Initial k-nearest value of 45\n",
      "Info:    RRTstar: Found an initial solution with a cost of 1.00 in 737 iterations (93 vertices in the graph)\n"
     ]
    },
    {
     "name": "stderr",
     "output_type": "stream",
     "text": [
      "Warning: RRTstar requires a state space with symmetric distance and symmetric interpolation.\n",
      "         at line 101 in /home/oscar_palfelt/MSc_thesis/ompl/src/ompl/geometric/planners/rrt/src/RRTstar.cpp\n"
     ]
    },
    {
     "name": "stdout",
     "output_type": "stream",
     "text": [
      "Info:    RRTstar: Created 746 new states. Checked 220072 rewire options. 2 goal states in tree. Final solution cost 0.923\n",
      "Info:    Solution found in 4.010018 seconds\n",
      "Info:    RRTstar: Started planning with 1 states. Seeking a solution better than 0.00000.\n",
      "Info:    RRTstar: Initial k-nearest value of 45\n"
     ]
    },
    {
     "name": "stderr",
     "output_type": "stream",
     "text": [
      "Warning: RRTstar requires a state space with symmetric distance and symmetric interpolation.\n",
      "         at line 101 in /home/oscar_palfelt/MSc_thesis/ompl/src/ompl/geometric/planners/rrt/src/RRTstar.cpp\n"
     ]
    },
    {
     "name": "stdout",
     "output_type": "stream",
     "text": [
      "Info:    ProblemDefinition: Adding approximate solution from planner RRTstar\n",
      "Info:    RRTstar: Created 791 new states. Checked 239173 rewire options. 0 goal states in tree. Final solution cost inf\n",
      "Info:    Solution found in 4.004612 seconds\n",
      "Info:    RRTstar: Started planning with 1 states. Seeking a solution better than 0.00000.\n",
      "Info:    RRTstar: Initial k-nearest value of 45\n"
     ]
    },
    {
     "name": "stderr",
     "output_type": "stream",
     "text": [
      "Warning: RRTstar requires a state space with symmetric distance and symmetric interpolation.\n",
      "         at line 101 in /home/oscar_palfelt/MSc_thesis/ompl/src/ompl/geometric/planners/rrt/src/RRTstar.cpp\n"
     ]
    },
    {
     "name": "stdout",
     "output_type": "stream",
     "text": [
      "Info:    RRTstar: Found an initial solution with a cost of 1.23 in 1279 iterations (239 vertices in the graph)\n",
      "Info:    RRTstar: Created 789 new states. Checked 238321 rewire options. 1 goal states in tree. Final solution cost 1.229\n",
      "Info:    Solution found in 4.001526 seconds\n",
      "Info:    RRTstar: Started planning with 1 states. Seeking a solution better than 0.00000.\n",
      "Info:    RRTstar: Initial k-nearest value of 45\n"
     ]
    },
    {
     "name": "stderr",
     "output_type": "stream",
     "text": [
      "Warning: RRTstar requires a state space with symmetric distance and symmetric interpolation.\n",
      "         at line 101 in /home/oscar_palfelt/MSc_thesis/ompl/src/ompl/geometric/planners/rrt/src/RRTstar.cpp\n"
     ]
    },
    {
     "name": "stdout",
     "output_type": "stream",
     "text": [
      "Info:    RRTstar: Found an initial solution with a cost of 1.29 in 62972 iterations (52 vertices in the graph)\n",
      "Info:    RRTstar: Created 566 new states. Checked 145519 rewire options. 2 goal states in tree. Final solution cost 0.966\n",
      "Info:    Solution found in 4.002665 seconds\n",
      "Info:    RRTstar: Started planning with 1 states. Seeking a solution better than 0.00000.\n",
      "Info:    RRTstar: Initial k-nearest value of 45\n"
     ]
    },
    {
     "name": "stderr",
     "output_type": "stream",
     "text": [
      "Warning: RRTstar requires a state space with symmetric distance and symmetric interpolation.\n",
      "         at line 101 in /home/oscar_palfelt/MSc_thesis/ompl/src/ompl/geometric/planners/rrt/src/RRTstar.cpp\n"
     ]
    },
    {
     "name": "stdout",
     "output_type": "stream",
     "text": [
      "Info:    ProblemDefinition: Adding approximate solution from planner RRTstar\n",
      "Info:    RRTstar: Created 757 new states. Checked 224725 rewire options. 0 goal states in tree. Final solution cost inf\n",
      "Info:    Solution found in 4.001189 seconds\n",
      "Info:    RRTstar: Started planning with 1 states. Seeking a solution better than 0.00000.\n",
      "Info:    RRTstar: Initial k-nearest value of 45\n",
      "Info:    RRTstar: Found an initial solution with a cost of 1.86 in 273 iterations (34 vertices in the graph)\n"
     ]
    },
    {
     "name": "stderr",
     "output_type": "stream",
     "text": [
      "Warning: RRTstar requires a state space with symmetric distance and symmetric interpolation.\n",
      "         at line 101 in /home/oscar_palfelt/MSc_thesis/ompl/src/ompl/geometric/planners/rrt/src/RRTstar.cpp\n"
     ]
    },
    {
     "name": "stdout",
     "output_type": "stream",
     "text": [
      "Info:    RRTstar: Created 768 new states. Checked 229389 rewire options. 5 goal states in tree. Final solution cost 1.256\n",
      "Info:    Solution found in 4.001724 seconds\n",
      "Info:    RRTstar: Started planning with 1 states. Seeking a solution better than 0.00000.\n",
      "Info:    RRTstar: Initial k-nearest value of 45\n"
     ]
    },
    {
     "name": "stderr",
     "output_type": "stream",
     "text": [
      "Warning: RRTstar requires a state space with symmetric distance and symmetric interpolation.\n",
      "         at line 101 in /home/oscar_palfelt/MSc_thesis/ompl/src/ompl/geometric/planners/rrt/src/RRTstar.cpp\n"
     ]
    },
    {
     "name": "stdout",
     "output_type": "stream",
     "text": [
      "Info:    RRTstar: Found an initial solution with a cost of 1.32 in 2271 iterations (432 vertices in the graph)\n",
      "Info:    RRTstar: Created 768 new states. Checked 229389 rewire options. 1 goal states in tree. Final solution cost 1.185\n",
      "Info:    Solution found in 4.008483 seconds\n",
      "Info:    RRTstar: Started planning with 1 states. Seeking a solution better than 0.00000.\n",
      "Info:    RRTstar: Initial k-nearest value of 45\n"
     ]
    },
    {
     "name": "stderr",
     "output_type": "stream",
     "text": [
      "Warning: RRTstar requires a state space with symmetric distance and symmetric interpolation.\n",
      "         at line 101 in /home/oscar_palfelt/MSc_thesis/ompl/src/ompl/geometric/planners/rrt/src/RRTstar.cpp\n"
     ]
    },
    {
     "name": "stdout",
     "output_type": "stream",
     "text": [
      "Info:    RRTstar: Found an initial solution with a cost of 1.76 in 1032 iterations (179 vertices in the graph)\n",
      "Info:    RRTstar: Created 770 new states. Checked 230238 rewire options. 1 goal states in tree. Final solution cost 1.175\n",
      "Info:    Solution found in 4.012109 seconds\n",
      "Info:    RRTstar: Started planning with 1 states. Seeking a solution better than 0.00000.\n",
      "Info:    RRTstar: Initial k-nearest value of 45\n",
      "Info:    RRTstar: Found an initial solution with a cost of 1.66 in 101 iterations (20 vertices in the graph)\n"
     ]
    },
    {
     "name": "stderr",
     "output_type": "stream",
     "text": [
      "Warning: RRTstar requires a state space with symmetric distance and symmetric interpolation.\n",
      "         at line 101 in /home/oscar_palfelt/MSc_thesis/ompl/src/ompl/geometric/planners/rrt/src/RRTstar.cpp\n"
     ]
    },
    {
     "name": "stdout",
     "output_type": "stream",
     "text": [
      "Info:    RRTstar: Created 756 new states. Checked 224302 rewire options. 1 goal states in tree. Final solution cost 1.348\n",
      "Info:    Solution found in 4.001131 seconds\n",
      "Info:    RRTstar: Started planning with 1 states. Seeking a solution better than 0.00000.\n",
      "Info:    RRTstar: Initial k-nearest value of 45\n"
     ]
    },
    {
     "name": "stderr",
     "output_type": "stream",
     "text": [
      "Warning: RRTstar requires a state space with symmetric distance and symmetric interpolation.\n",
      "         at line 101 in /home/oscar_palfelt/MSc_thesis/ompl/src/ompl/geometric/planners/rrt/src/RRTstar.cpp\n"
     ]
    },
    {
     "name": "stdout",
     "output_type": "stream",
     "text": [
      "Info:    ProblemDefinition: Adding approximate solution from planner RRTstar\n",
      "Info:    RRTstar: Created 785 new states. Checked 236617 rewire options. 0 goal states in tree. Final solution cost inf\n",
      "Info:    Solution found in 4.000019 seconds\n",
      "Info:    RRTstar: Started planning with 1 states. Seeking a solution better than 0.00000.\n",
      "Info:    RRTstar: Initial k-nearest value of 45\n"
     ]
    },
    {
     "name": "stderr",
     "output_type": "stream",
     "text": [
      "Warning: RRTstar requires a state space with symmetric distance and symmetric interpolation.\n",
      "         at line 101 in /home/oscar_palfelt/MSc_thesis/ompl/src/ompl/geometric/planners/rrt/src/RRTstar.cpp\n"
     ]
    },
    {
     "name": "stdout",
     "output_type": "stream",
     "text": [
      "Info:    RRTstar: Found an initial solution with a cost of 1.86 in 3210 iterations (320 vertices in the graph)\n",
      "Info:    RRTstar: Created 736 new states. Checked 215851 rewire options. 1 goal states in tree. Final solution cost 1.803\n",
      "Info:    Solution found in 4.001987 seconds\n",
      "Info:    RRTstar: Started planning with 1 states. Seeking a solution better than 0.00000.\n",
      "Info:    RRTstar: Initial k-nearest value of 45\n",
      "Info:    RRTstar: Found an initial solution with a cost of 1.39 in 85 iterations (12 vertices in the graph)\n"
     ]
    },
    {
     "name": "stderr",
     "output_type": "stream",
     "text": [
      "Warning: RRTstar requires a state space with symmetric distance and symmetric interpolation.\n",
      "         at line 101 in /home/oscar_palfelt/MSc_thesis/ompl/src/ompl/geometric/planners/rrt/src/RRTstar.cpp\n"
     ]
    },
    {
     "name": "stdout",
     "output_type": "stream",
     "text": [
      "Info:    RRTstar: Created 761 new states. Checked 226421 rewire options. 1 goal states in tree. Final solution cost 0.912\n",
      "Info:    Solution found in 4.007508 seconds\n",
      "Info:    RRTstar: Started planning with 1 states. Seeking a solution better than 0.00000.\n",
      "Info:    RRTstar: Initial k-nearest value of 45\n",
      "Info:    RRTstar: Found an initial solution with a cost of 1.39 in 203 iterations (16 vertices in the graph)\n"
     ]
    },
    {
     "name": "stderr",
     "output_type": "stream",
     "text": [
      "Warning: RRTstar requires a state space with symmetric distance and symmetric interpolation.\n",
      "         at line 101 in /home/oscar_palfelt/MSc_thesis/ompl/src/ompl/geometric/planners/rrt/src/RRTstar.cpp\n"
     ]
    },
    {
     "name": "stdout",
     "output_type": "stream",
     "text": [
      "Info:    RRTstar: Created 785 new states. Checked 236617 rewire options. 2 goal states in tree. Final solution cost 1.127\n",
      "Info:    Solution found in 4.001646 seconds\n"
     ]
    }
   ],
   "source": [
    "# generate planning data, car scenario\n",
    "\n",
    "nData = 10 # number of plans to generate\n",
    "\n",
    "minDistThreshold = 0.5 # minimum distance threshold betwen start/goal\n",
    "\n",
    "trajSamples = np.zeros(shape=(1, 4)) # x, y, xdot, ydot\n",
    "newInitData = np.zeros(shape=(1, 4)) # x, y, xdot, ydot\n",
    "newGoalData = np.zeros(shape=(1, 4))\n",
    "\n",
    "planObj = problemDef()\n",
    "\n",
    "plotPaths = False\n",
    "i = 0 \n",
    "nPlans = 0 # number of completed plans\n",
    "while nPlans < nData:\n",
    "\n",
    "    start = np.array([0, 0, 0]) # x, y, yaw\n",
    "    goal  = np.copy(start)\n",
    "    ux = 0; vx = 0; uy = 0; vy = 0\n",
    "    \n",
    "    while True:\n",
    "        start = np.array([np.random.uniform(low=0.001, high=0.999), np.random.uniform(low=0.001, high=0.999), np.random.uniform(low=-np.pi, high=np.pi)])\n",
    "        goal  = np.array([np.random.uniform(low=0.001, high=0.999), np.random.uniform(low=0.001, high=0.999), np.random.uniform(low=-np.pi, high=np.pi)])\n",
    "        ux = int(np.floor(start[0] * gridSize)) # right pointing image axis\n",
    "        vx = int(np.floor(gridSize * (1 - start[1]))) # down pointing image axis\n",
    "        uy = int(np.floor(goal[0] * gridSize)) # right pointing image axis\n",
    "        vy = int(np.floor(gridSize * (1 - goal[1]))) # down pointing image axis\n",
    "        if np.linalg.norm(start[:2] - goal[:2]) > minDistThreshold and inflatedGrid[vx,ux] > 0 and inflatedGrid[vy,uy] > 0:\n",
    "            break\n",
    "\n",
    "    plan(planObj, start, goal)\n",
    "\n",
    "    if planObj.getProblemDefinition().hasExactSolution():\n",
    "\n",
    "        sol = np.loadtxt(StringIO(planObj.getSolutionPath().printAsMatrix()))\n",
    "        nSamples = sol.shape[0]\n",
    "\n",
    "        xdot = np.cos(sol[:,2]).reshape((nSamples,1))\n",
    "        ydot = np.sin(sol[:,2]).reshape((nSamples,1))\n",
    "        trajSamples = np.vstack((trajSamples, np.hstack((sol[:, 0:2], xdot, ydot)))) # x, y, xdot, ydot\n",
    "        newInitData = np.vstack((newInitData, np.tile(np.append(start[0:2], [np.cos(start[-1]), np.sin(start[-1])]), reps=(nSamples, 1)))) # x, y, yaw, xdot, ydot\n",
    "        newGoalData = np.vstack((newGoalData, np.tile(np.append(goal[0:2], [np.cos(goal[-1]), np.sin(goal[-1])]), reps=(nSamples, 1)))) # x, y, yaw, xdot, ydot\n",
    "        \n",
    "        if plotPaths:\n",
    "            fig, ax = plt.subplots()\n",
    "            ax.imshow(occGrid, extent=[0, gridSize-1, 0, gridSize-1], cmap='gray')\n",
    "            ax.scatter(start[0] * (gridSize - 1), start[1] * (gridSize - 1), color=\"red\", s=250, edgecolors='black')\n",
    "            ax.scatter(goal[0] * (gridSize - 1), goal[1] * (gridSize - 1), color=\"blue\", s=250, edgecolors='black')\n",
    "            ax.quiver(sol[:, 0] * (gridSize - 1), sol[:, 1] * (gridSize - 1), np.cos(sol[:,2]), np.sin(sol[:,2]), color=\"purple\", scale=8.0, width=0.015, alpha=0.9)\n",
    "            plt.show()\n",
    "\n",
    "        nPlans += 1\n",
    "        if nPlans % 100 == 0:\n",
    "            newData = np.concatenate((trajSamples, newInitData, newGoalData), axis=1)[1:]\n",
    "            np.savetxt('/home/oscar_palfelt/MSc_thesis/EECS_Degree_Project/motion_planning/data/pathDataDifficult_i' + str(i), newData, delimiter=',', fmt='%1.6f')\n",
    "  \n",
    "    planObj.clear()\n",
    "    i += 1  \n",
    "\n",
    "    #ob.ProblemDefinition.getSolution\n",
    "\n",
    "newData = np.concatenate((trajSamples, newInitData, newGoalData), axis=1)[1:]\n",
    "np.savetxt('/home/oscar_palfelt/MSc_thesis/EECS_Degree_Project/motion_planning/data/pathDataDifficult', newData, delimiter=',', fmt='%1.6f')\n"
   ]
  }
 ],
 "metadata": {
  "interpreter": {
   "hash": "9e6cc1179d3ed6ae143ff3dc9ac563dc8e696a51d4136aae17def4ab6c30aa1f"
  },
  "kernelspec": {
   "display_name": "Python 3.8.12 ('project_env_3_8': venv)",
   "language": "python",
   "name": "python3"
  },
  "language_info": {
   "codemirror_mode": {
    "name": "ipython",
    "version": 3
   },
   "file_extension": ".py",
   "mimetype": "text/x-python",
   "name": "python",
   "nbconvert_exporter": "python",
   "pygments_lexer": "ipython3",
   "version": "3.8.12"
  },
  "orig_nbformat": 4
 },
 "nbformat": 4,
 "nbformat_minor": 2
}
